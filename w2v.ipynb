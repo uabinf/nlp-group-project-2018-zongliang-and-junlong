{
 "cells": [
  {
   "cell_type": "code",
   "execution_count": 1,
   "metadata": {},
   "outputs": [
    {
     "data": {
      "application/javascript": [
       "IPython.notebook.clear_all_output();"
      ],
      "text/plain": [
       "<IPython.core.display.Javascript object>"
      ]
     },
     "metadata": {},
     "output_type": "display_data"
    }
   ],
   "source": [
    "%%javascript\n",
    "IPython.notebook.clear_all_output();"
   ]
  },
  {
   "cell_type": "markdown",
   "metadata": {},
   "source": [
    "# Load the abstract file"
   ]
  },
  {
   "cell_type": "code",
   "execution_count": 30,
   "metadata": {
    "collapsed": true
   },
   "outputs": [],
   "source": [
    "import numpy as np\n",
    "import pandas as pd\n",
    "\n",
    "file = 'modified_abstract.json'\n",
    "data = pd.read_json(file, lines=True)"
   ]
  },
  {
   "cell_type": "markdown",
   "metadata": {},
   "source": [
    "Full File Shape"
   ]
  },
  {
   "cell_type": "code",
   "execution_count": 31,
   "metadata": {
    "scrolled": true
   },
   "outputs": [
    {
     "data": {
      "text/plain": [
       "(17597123, 3)"
      ]
     },
     "execution_count": 31,
     "metadata": {},
     "output_type": "execute_result"
    }
   ],
   "source": [
    "data.shape"
   ]
  },
  {
   "cell_type": "markdown",
   "metadata": {},
   "source": [
    "Delete Empty Data"
   ]
  },
  {
   "cell_type": "code",
   "execution_count": 32,
   "metadata": {
    "collapsed": true
   },
   "outputs": [],
   "source": [
    "data = data.dropna(subset=['abstract','docid'])"
   ]
  },
  {
   "cell_type": "markdown",
   "metadata": {},
   "source": [
    "Cleaned File Shape"
   ]
  },
  {
   "cell_type": "code",
   "execution_count": 33,
   "metadata": {},
   "outputs": [
    {
     "data": {
      "text/plain": [
       "(9354165, 3)"
      ]
     },
     "execution_count": 33,
     "metadata": {},
     "output_type": "execute_result"
    }
   ],
   "source": [
    "data.shape"
   ]
  },
  {
   "cell_type": "code",
   "execution_count": 34,
   "metadata": {},
   "outputs": [
    {
     "data": {
      "text/html": [
       "<div>\n",
       "<style scoped>\n",
       "    .dataframe tbody tr th:only-of-type {\n",
       "        vertical-align: middle;\n",
       "    }\n",
       "\n",
       "    .dataframe tbody tr th {\n",
       "        vertical-align: top;\n",
       "    }\n",
       "\n",
       "    .dataframe thead th {\n",
       "        text-align: right;\n",
       "    }\n",
       "</style>\n",
       "<table border=\"1\" class=\"dataframe\">\n",
       "  <thead>\n",
       "    <tr style=\"text-align: right;\">\n",
       "      <th></th>\n",
       "      <th>abstract</th>\n",
       "      <th>docid</th>\n",
       "      <th>title</th>\n",
       "    </tr>\n",
       "  </thead>\n",
       "  <tbody>\n",
       "    <tr>\n",
       "      <th>0</th>\n",
       "      <td>A Brazilian family with hereditary gingival fi...</td>\n",
       "      <td>7800376</td>\n",
       "      <td>Hereditary gingival fibromatosis. Report of an...</td>\n",
       "    </tr>\n",
       "    <tr>\n",
       "      <th>1</th>\n",
       "      <td>Necrosis that occurs in a salivary gland neopl...</td>\n",
       "      <td>7800377</td>\n",
       "      <td>Necrosis in benign salivary gland neoplasms. N...</td>\n",
       "    </tr>\n",
       "    <tr>\n",
       "      <th>2</th>\n",
       "      <td>Seventy-nine patients with oral leukoplakia th...</td>\n",
       "      <td>7800378</td>\n",
       "      <td>A clinical trial of antioxidant supplements in...</td>\n",
       "    </tr>\n",
       "    <tr>\n",
       "      <th>3</th>\n",
       "      <td>Proliferative verrucous leukoplakia is a slow-...</td>\n",
       "      <td>7800379</td>\n",
       "      <td>Proliferative verrucous leukoplakia. Four case...</td>\n",
       "    </tr>\n",
       "    <tr>\n",
       "      <th>4</th>\n",
       "      <td>We report the case of a patient in whom oral s...</td>\n",
       "      <td>7800380</td>\n",
       "      <td>A case of histiocytic medullary reticulosis co...</td>\n",
       "    </tr>\n",
       "  </tbody>\n",
       "</table>\n",
       "</div>"
      ],
      "text/plain": [
       "                                            abstract    docid  \\\n",
       "0  A Brazilian family with hereditary gingival fi...  7800376   \n",
       "1  Necrosis that occurs in a salivary gland neopl...  7800377   \n",
       "2  Seventy-nine patients with oral leukoplakia th...  7800378   \n",
       "3  Proliferative verrucous leukoplakia is a slow-...  7800379   \n",
       "4  We report the case of a patient in whom oral s...  7800380   \n",
       "\n",
       "                                               title  \n",
       "0  Hereditary gingival fibromatosis. Report of an...  \n",
       "1  Necrosis in benign salivary gland neoplasms. N...  \n",
       "2  A clinical trial of antioxidant supplements in...  \n",
       "3  Proliferative verrucous leukoplakia. Four case...  \n",
       "4  A case of histiocytic medullary reticulosis co...  "
      ]
     },
     "execution_count": 34,
     "metadata": {},
     "output_type": "execute_result"
    }
   ],
   "source": [
    "data.head()"
   ]
  },
  {
   "cell_type": "markdown",
   "metadata": {},
   "source": [
    "# Load the gene file"
   ]
  },
  {
   "cell_type": "code",
   "execution_count": 8,
   "metadata": {},
   "outputs": [
    {
     "data": {
      "text/html": [
       "<div>\n",
       "<style scoped>\n",
       "    .dataframe tbody tr th:only-of-type {\n",
       "        vertical-align: middle;\n",
       "    }\n",
       "\n",
       "    .dataframe tbody tr th {\n",
       "        vertical-align: top;\n",
       "    }\n",
       "\n",
       "    .dataframe thead th {\n",
       "        text-align: right;\n",
       "    }\n",
       "</style>\n",
       "<table border=\"1\" class=\"dataframe\">\n",
       "  <thead>\n",
       "    <tr style=\"text-align: right;\">\n",
       "      <th></th>\n",
       "      <th>Unnamed: 0</th>\n",
       "      <th>TAX_ID</th>\n",
       "      <th>GENE_ID</th>\n",
       "      <th>SYMBOL</th>\n",
       "      <th>SYNONYMES</th>\n",
       "    </tr>\n",
       "  </thead>\n",
       "  <tbody>\n",
       "    <tr>\n",
       "      <th>0</th>\n",
       "      <td>0</td>\n",
       "      <td>9606</td>\n",
       "      <td>28</td>\n",
       "      <td>ABO</td>\n",
       "      <td>A3GALNT|A3GALT1|GTB|NAGAT</td>\n",
       "    </tr>\n",
       "    <tr>\n",
       "      <th>1</th>\n",
       "      <td>1</td>\n",
       "      <td>9606</td>\n",
       "      <td>29</td>\n",
       "      <td>ABR</td>\n",
       "      <td>MDB</td>\n",
       "    </tr>\n",
       "    <tr>\n",
       "      <th>2</th>\n",
       "      <td>2</td>\n",
       "      <td>9606</td>\n",
       "      <td>30</td>\n",
       "      <td>ACAA1</td>\n",
       "      <td>ACAA|PTHIO|THIO</td>\n",
       "    </tr>\n",
       "    <tr>\n",
       "      <th>3</th>\n",
       "      <td>3</td>\n",
       "      <td>9606</td>\n",
       "      <td>31</td>\n",
       "      <td>ACACA</td>\n",
       "      <td>ACAC|ACACAD|ACC|ACC1|ACCA</td>\n",
       "    </tr>\n",
       "    <tr>\n",
       "      <th>4</th>\n",
       "      <td>4</td>\n",
       "      <td>9606</td>\n",
       "      <td>32</td>\n",
       "      <td>ACACB</td>\n",
       "      <td>ACC2|ACCB|HACC275</td>\n",
       "    </tr>\n",
       "  </tbody>\n",
       "</table>\n",
       "</div>"
      ],
      "text/plain": [
       "   Unnamed: 0  TAX_ID  GENE_ID SYMBOL                  SYNONYMES\n",
       "0           0    9606       28    ABO  A3GALNT|A3GALT1|GTB|NAGAT\n",
       "1           1    9606       29    ABR                        MDB\n",
       "2           2    9606       30  ACAA1            ACAA|PTHIO|THIO\n",
       "3           3    9606       31  ACACA  ACAC|ACACAD|ACC|ACC1|ACCA\n",
       "4           4    9606       32  ACACB          ACC2|ACCB|HACC275"
      ]
     },
     "execution_count": 8,
     "metadata": {},
     "output_type": "execute_result"
    }
   ],
   "source": [
    "gile = 'gene.csv'\n",
    "gene = pd.read_csv(gile)\n",
    "gene.head()"
   ]
  },
  {
   "cell_type": "code",
   "execution_count": 9,
   "metadata": {
    "collapsed": true
   },
   "outputs": [],
   "source": [
    "gene_dic = {}\n",
    "\n",
    "index = 0\n",
    "gene_ids = gene['GENE_ID']\n",
    "symbols = gene['SYMBOL']\n",
    "synonymes = gene['SYNONYMES']\n",
    "while True:\n",
    "    if gene_ids[index]:\n",
    "        try:\n",
    "            if symbols[index]:\n",
    "                gene_dic[symbols[index].lower()] =  gene_ids[index]\n",
    "            if synonymes[index]:\n",
    "                synonyme = synonymes[index].split('|')\n",
    "            for syn in synonyme:\n",
    "                gene_dic[syn.lower()] =  gene_ids[index]\n",
    "            index += 1\n",
    "        except:\n",
    "            break"
   ]
  },
  {
   "cell_type": "markdown",
   "metadata": {},
   "source": [
    "# Clean Abstract Rows Without Genetic Info"
   ]
  },
  {
   "cell_type": "code",
   "execution_count": 11,
   "metadata": {
    "collapsed": true
   },
   "outputs": [],
   "source": [
    "abstracts = data['abstract']"
   ]
  },
  {
   "cell_type": "code",
   "execution_count": 13,
   "metadata": {
    "scrolled": true
   },
   "outputs": [
    {
     "name": "stdout",
     "output_type": "stream",
     "text": [
      "[nltk_data] Downloading package punkt to /home/weidatan/nltk_data...\n",
      "[nltk_data]   Unzipping tokenizers/punkt.zip.\n"
     ]
    }
   ],
   "source": [
    "import nltk\n",
    "from nltk.tokenize import word_tokenize\n",
    "\n",
    "nltk.download('punkt')\n",
    "\n",
    "keys = gene_dic.keys()\n",
    "\n",
    "index = 0\n",
    "delete_index = []\n",
    "for abstr in abstracts:\n",
    "    word_tokens = word_tokenize(abstr)\n",
    "    detector = 0\n",
    "    for token in word_tokens:\n",
    "        if token in keys:\n",
    "            detector = 1\n",
    "            break\n",
    "    if detector == 0:\n",
    "        delete_index.append(index)\n",
    "    index += 1\n"
   ]
  },
  {
   "cell_type": "code",
   "execution_count": 62,
   "metadata": {},
   "outputs": [
    {
     "data": {
      "text/plain": [
       "5843"
      ]
     },
     "execution_count": 62,
     "metadata": {},
     "output_type": "execute_result"
    }
   ],
   "source": [
    "len(delete_index)"
   ]
  },
  {
   "cell_type": "code",
   "execution_count": 29,
   "metadata": {
    "collapsed": true
   },
   "outputs": [],
   "source": [
    "file = open('delete_index.txt','a')\n",
    "for info in delete_index:\n",
    "    file.write(str(info))\n",
    "    file.write('\\n')\n",
    "file.close()"
   ]
  },
  {
   "cell_type": "code",
   "execution_count": 39,
   "metadata": {
    "collapsed": true
   },
   "outputs": [],
   "source": [
    "i = 0\n",
    "for delete in delete_index:\n",
    "    new_data = data.drop(data.index[[delete-i]])\n",
    "    i += 1"
   ]
  },
  {
   "cell_type": "markdown",
   "metadata": {},
   "source": [
    "File Shape with Genetic Info"
   ]
  },
  {
   "cell_type": "code",
   "execution_count": 40,
   "metadata": {},
   "outputs": [
    {
     "data": {
      "text/plain": [
       "(9354165, 3)"
      ]
     },
     "execution_count": 40,
     "metadata": {},
     "output_type": "execute_result"
    }
   ],
   "source": [
    "data.shape"
   ]
  },
  {
   "cell_type": "code",
   "execution_count": 41,
   "metadata": {},
   "outputs": [
    {
     "data": {
      "text/html": [
       "<div>\n",
       "<style scoped>\n",
       "    .dataframe tbody tr th:only-of-type {\n",
       "        vertical-align: middle;\n",
       "    }\n",
       "\n",
       "    .dataframe tbody tr th {\n",
       "        vertical-align: top;\n",
       "    }\n",
       "\n",
       "    .dataframe thead th {\n",
       "        text-align: right;\n",
       "    }\n",
       "</style>\n",
       "<table border=\"1\" class=\"dataframe\">\n",
       "  <thead>\n",
       "    <tr style=\"text-align: right;\">\n",
       "      <th></th>\n",
       "      <th>abstract</th>\n",
       "      <th>docid</th>\n",
       "      <th>title</th>\n",
       "    </tr>\n",
       "  </thead>\n",
       "  <tbody>\n",
       "    <tr>\n",
       "      <th>0</th>\n",
       "      <td>A Brazilian family with hereditary gingival fi...</td>\n",
       "      <td>7800376</td>\n",
       "      <td>Hereditary gingival fibromatosis. Report of an...</td>\n",
       "    </tr>\n",
       "    <tr>\n",
       "      <th>1</th>\n",
       "      <td>Necrosis that occurs in a salivary gland neopl...</td>\n",
       "      <td>7800377</td>\n",
       "      <td>Necrosis in benign salivary gland neoplasms. N...</td>\n",
       "    </tr>\n",
       "    <tr>\n",
       "      <th>2</th>\n",
       "      <td>Seventy-nine patients with oral leukoplakia th...</td>\n",
       "      <td>7800378</td>\n",
       "      <td>A clinical trial of antioxidant supplements in...</td>\n",
       "    </tr>\n",
       "    <tr>\n",
       "      <th>3</th>\n",
       "      <td>Proliferative verrucous leukoplakia is a slow-...</td>\n",
       "      <td>7800379</td>\n",
       "      <td>Proliferative verrucous leukoplakia. Four case...</td>\n",
       "    </tr>\n",
       "    <tr>\n",
       "      <th>4</th>\n",
       "      <td>We report the case of a patient in whom oral s...</td>\n",
       "      <td>7800380</td>\n",
       "      <td>A case of histiocytic medullary reticulosis co...</td>\n",
       "    </tr>\n",
       "  </tbody>\n",
       "</table>\n",
       "</div>"
      ],
      "text/plain": [
       "                                            abstract    docid  \\\n",
       "0  A Brazilian family with hereditary gingival fi...  7800376   \n",
       "1  Necrosis that occurs in a salivary gland neopl...  7800377   \n",
       "2  Seventy-nine patients with oral leukoplakia th...  7800378   \n",
       "3  Proliferative verrucous leukoplakia is a slow-...  7800379   \n",
       "4  We report the case of a patient in whom oral s...  7800380   \n",
       "\n",
       "                                               title  \n",
       "0  Hereditary gingival fibromatosis. Report of an...  \n",
       "1  Necrosis in benign salivary gland neoplasms. N...  \n",
       "2  A clinical trial of antioxidant supplements in...  \n",
       "3  Proliferative verrucous leukoplakia. Four case...  \n",
       "4  A case of histiocytic medullary reticulosis co...  "
      ]
     },
     "execution_count": 41,
     "metadata": {},
     "output_type": "execute_result"
    }
   ],
   "source": [
    "data.head()"
   ]
  },
  {
   "cell_type": "code",
   "execution_count": 42,
   "metadata": {
    "collapsed": true
   },
   "outputs": [],
   "source": [
    "data.to_pickle('cleaned_abstract.pickle')\n",
    "#new_data = pd.read_pickle('cleaned_abstract.pickle')\n",
    "#new_data.shape\n",
    "#new_data.head()"
   ]
  },
  {
   "cell_type": "markdown",
   "metadata": {},
   "source": [
    "# Tokenization"
   ]
  },
  {
   "cell_type": "code",
   "execution_count": 43,
   "metadata": {
    "collapsed": true
   },
   "outputs": [],
   "source": [
    "abstracts = data['abstract']"
   ]
  },
  {
   "cell_type": "code",
   "execution_count": 46,
   "metadata": {},
   "outputs": [
    {
     "name": "stdout",
     "output_type": "stream",
     "text": [
      "[nltk_data] Downloading package stopwords to\n",
      "[nltk_data]     /home/weidatan/nltk_data...\n",
      "[nltk_data]   Unzipping corpora/stopwords.zip.\n",
      "[nltk_data] Downloading package punkt to /home/weidatan/nltk_data...\n",
      "[nltk_data]   Package punkt is already up-to-date!\n"
     ]
    }
   ],
   "source": [
    "import re\n",
    "import nltk\n",
    "from nltk.corpus import stopwords\n",
    "from nltk.tokenize import word_tokenize\n",
    "#from gensim.parsing.porter import PorterStemmer\n",
    "\n",
    "nltk.download('stopwords')\n",
    "nltk.download('punkt')\n",
    "\n",
    "stop_words = set(stopwords.words('english'))\n",
    "\n",
    "stem_abstracts = []\n",
    "for abstr in abstracts:\n",
    "    word_tokens = word_tokenize(abstr)\n",
    "    stem_abstr = []\n",
    "    for token in word_tokens:\n",
    "        #stem_token = PorterStemmer().stem(token)\n",
    "        #if re.search('[a-zA-Z0-9]',stem_token):\n",
    "            #stem_abstr.append(stem_token)\n",
    "        if re.search('[a-zA-Z0-9]',token):\n",
    "            stem_abstr.append(token)\n",
    "    #print(abstr)\n",
    "    #print(stem_abstr)\n",
    "    #break\n",
    "    stem_abstracts.append(stem_abstr)"
   ]
  },
  {
   "cell_type": "code",
   "execution_count": 63,
   "metadata": {
    "collapsed": true
   },
   "outputs": [],
   "source": [
    "from gensim.models import Word2Vec\n",
    "\n",
    "model = Word2Vec(stem_abstracts, size=100, window=5, min_count=1, workers=4)\n",
    "\n",
    "model.save(\"w2v.model\")"
   ]
  },
  {
   "cell_type": "markdown",
   "metadata": {
    "collapsed": true
   },
   "source": [
    "End"
   ]
  }
 ],
 "metadata": {
  "kernelspec": {
   "display_name": "Python 3",
   "language": "python",
   "name": "python3"
  },
  "language_info": {
   "codemirror_mode": {
    "name": "ipython",
    "version": 3
   },
   "file_extension": ".py",
   "mimetype": "text/x-python",
   "name": "python",
   "nbconvert_exporter": "python",
   "pygments_lexer": "ipython3",
   "version": "3.6.3"
  }
 },
 "nbformat": 4,
 "nbformat_minor": 2
}
